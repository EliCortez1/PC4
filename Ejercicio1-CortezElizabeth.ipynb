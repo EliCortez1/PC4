{
 "cells": [
  {
   "cell_type": "code",
   "execution_count": 2,
   "metadata": {
    "collapsed": false
   },
   "outputs": [
   ],
   "source": [
    "#Importamos las librerias necesarias para usar la herramientas que ofrece python\n",
    "import numpy as np\n",
    "import pandas as pd\n",
    "import matplotlib.pyplot as plt\n",
    "import seaborn as sns\n",
    "from sklearn.preprocessing import Imputer\n",
    "from sklearn.preprocessing import LabelEncoder as Codificar\n",
    "from sklearn.preprocessing import OneHotEncoder\n",
    "from sklearn.preprocessing import MinMaxScaler\n",
    "from sklearn.model_selection import train_test_split as Separar\n",
    "from statsmodels.tools.eval_measures import rmse\n",
    "from sklearn.metrics import confusion_matrix as CM\n",
    "from matplotlib.colors import ListedColormap as Colors"
   ]
  },
  {
   "cell_type": "code",
   "execution_count": 4,
   "metadata": {
    "collapsed": false
   },
   "outputs": [
    {
     "data": {
      "text/html": [
       "<div>\n",
       "<style scoped>\n",
       "    .dataframe tbody tr th:only-of-type {\n",
       "        vertical-align: middle;\n",
       "    }\n",
       "\n",
       "    .dataframe tbody tr th {\n",
       "        vertical-align: top;\n",
       "    }\n",
       "\n",
       "    .dataframe thead th {\n",
       "        text-align: right;\n",
       "    }\n",
       "</style>\n",
       "<table border=\"1\" class=\"dataframe\">\n",
       "  <thead>\n",
       "    <tr style=\"text-align: right;\">\n",
       "      <th></th>\n",
       "      <th>height</th>\n",
       "      <th>weight</th>\n",
       "      <th>success_field_goals</th>\n",
       "      <th>success_free_throws</th>\n",
       "      <th>avg_points_scored</th>\n",
       "    </tr>\n",
       "  </thead>\n",
       "  <tbody>\n",
       "    <tr>\n",
       "      <th>0</th>\n",
       "      <td>6.8</td>\n",
       "      <td>225</td>\n",
       "      <td>0.442</td>\n",
       "      <td>0.672</td>\n",
       "      <td>9.2</td>\n",
       "    </tr>\n",
       "    <tr>\n",
       "      <th>1</th>\n",
       "      <td>6.3</td>\n",
       "      <td>180</td>\n",
       "      <td>0.435</td>\n",
       "      <td>0.797</td>\n",
       "      <td>11.7</td>\n",
       "    </tr>\n",
       "    <tr>\n",
       "      <th>2</th>\n",
       "      <td>6.4</td>\n",
       "      <td>190</td>\n",
       "      <td>0.456</td>\n",
       "      <td>0.761</td>\n",
       "      <td>15.8</td>\n",
       "    </tr>\n",
       "    <tr>\n",
       "      <th>3</th>\n",
       "      <td>6.2</td>\n",
       "      <td>180</td>\n",
       "      <td>0.416</td>\n",
       "      <td>0.651</td>\n",
       "      <td>8.6</td>\n",
       "    </tr>\n",
       "    <tr>\n",
       "      <th>4</th>\n",
       "      <td>6.9</td>\n",
       "      <td>205</td>\n",
       "      <td>0.449</td>\n",
       "      <td>0.900</td>\n",
       "      <td>23.2</td>\n",
       "    </tr>\n",
       "  </tbody>\n",
       "</table>\n",
       "</div>"
      ],
      "text/plain": [
       "   height  weight  success_field_goals  success_free_throws  avg_points_scored\n",
       "0     6.8     225                0.442                0.672                9.2\n",
       "1     6.3     180                0.435                0.797               11.7\n",
       "2     6.4     190                0.456                0.761               15.8\n",
       "3     6.2     180                0.416                0.651                8.6\n",
       "4     6.9     205                0.449                0.900               23.2"
      ]
     },
     "execution_count": 4,
     "metadata": {
     },
     "output_type": "execute_result"
    }
   ],
   "source": [
    "#Utilizamos el csv basketball utilizando la variable Ejercicio\n",
    "Ejercicio = pd.read_csv('basketball.csv')\n",
    "#Visualizamos las primeras 5 filas del csv\n",
    "Ejercicio.head()"
   ]
  },
  {
   "cell_type": "code",
   "execution_count": 8,
   "metadata": {
    "collapsed": false
   },
   "outputs": [
    {
     "name": "stdout",
     "output_type": "stream",
     "text": [
      "<class 'pandas.core.frame.DataFrame'>\n",
      "RangeIndex: 54 entries, 0 to 53\n",
      "Data columns (total 5 columns):\n",
      "height                 54 non-null float64\n",
      "weight                 54 non-null int64\n",
      "success_field_goals    54 non-null float64\n",
      "success_free_throws    54 non-null float64\n",
      "avg_points_scored      54 non-null float64\n",
      "dtypes: float64(4), int64(1)\n",
      "memory usage: 2.2 KB\n"
     ]
    }
   ],
   "source": [
    "# Muestra información del contenido del dataframe de pandas\n",
    "Ejercicio.info()"
   ]
  },
  {
   "cell_type": "code",
   "execution_count": 10,
   "metadata": {
    "collapsed": false
   },
   "outputs": [
   ],
   "source": [
    "#cambiamos los nombres de las columnas\n",
    "Ejercicio = Ejercicio.rename(columns={'height':'Altura','weight':'Peso','success_field_goals':'%Tiros de Campo','success_free_throws':'% Tiros libres','avg_points_scored':'Puntos promedio'})"
   ]
  },
  {
   "cell_type": "code",
   "execution_count": 12,
   "metadata": {
    "collapsed": false
   },
   "outputs": [
    {
     "data": {
      "text/html": [
       "<div>\n",
       "<style scoped>\n",
       "    .dataframe tbody tr th:only-of-type {\n",
       "        vertical-align: middle;\n",
       "    }\n",
       "\n",
       "    .dataframe tbody tr th {\n",
       "        vertical-align: top;\n",
       "    }\n",
       "\n",
       "    .dataframe thead th {\n",
       "        text-align: right;\n",
       "    }\n",
       "</style>\n",
       "<table border=\"1\" class=\"dataframe\">\n",
       "  <thead>\n",
       "    <tr style=\"text-align: right;\">\n",
       "      <th></th>\n",
       "      <th>Altura</th>\n",
       "      <th>Peso</th>\n",
       "      <th>%Tiros de Campo</th>\n",
       "      <th>% Tiros libres</th>\n",
       "      <th>Puntos promedio</th>\n",
       "    </tr>\n",
       "  </thead>\n",
       "  <tbody>\n",
       "    <tr>\n",
       "      <th>0</th>\n",
       "      <td>6.8</td>\n",
       "      <td>225</td>\n",
       "      <td>0.442</td>\n",
       "      <td>0.672</td>\n",
       "      <td>9.2</td>\n",
       "    </tr>\n",
       "    <tr>\n",
       "      <th>1</th>\n",
       "      <td>6.3</td>\n",
       "      <td>180</td>\n",
       "      <td>0.435</td>\n",
       "      <td>0.797</td>\n",
       "      <td>11.7</td>\n",
       "    </tr>\n",
       "    <tr>\n",
       "      <th>2</th>\n",
       "      <td>6.4</td>\n",
       "      <td>190</td>\n",
       "      <td>0.456</td>\n",
       "      <td>0.761</td>\n",
       "      <td>15.8</td>\n",
       "    </tr>\n",
       "    <tr>\n",
       "      <th>3</th>\n",
       "      <td>6.2</td>\n",
       "      <td>180</td>\n",
       "      <td>0.416</td>\n",
       "      <td>0.651</td>\n",
       "      <td>8.6</td>\n",
       "    </tr>\n",
       "    <tr>\n",
       "      <th>4</th>\n",
       "      <td>6.9</td>\n",
       "      <td>205</td>\n",
       "      <td>0.449</td>\n",
       "      <td>0.900</td>\n",
       "      <td>23.2</td>\n",
       "    </tr>\n",
       "  </tbody>\n",
       "</table>\n",
       "</div>"
      ],
      "text/plain": [
       "   Altura  Peso  %Tiros de Campo  % Tiros libres  Puntos promedio\n",
       "0     6.8   225            0.442           0.672              9.2\n",
       "1     6.3   180            0.435           0.797             11.7\n",
       "2     6.4   190            0.456           0.761             15.8\n",
       "3     6.2   180            0.416           0.651              8.6\n",
       "4     6.9   205            0.449           0.900             23.2"
      ]
     },
     "execution_count": 12,
     "metadata": {
     },
     "output_type": "execute_result"
    }
   ],
   "source": [
    "#Listamos\n",
    "Ejercicio.head()"
   ]
  },
  {
   "cell_type": "code",
   "execution_count": 5,
   "metadata": {
    "collapsed": false
   },
   "outputs": [
   ],
   "source": [
    "#declaramos las variables \"x\" y \"y\"\n",
    "#la variable y sera la columna success_field_goals\n",
    "y = Ejercicio.success_field_goals\n",
    "#la variable x sera la columna success_free_throws\n",
    "x = Ejercicio.success_free_throws"
   ]
  },
  {
   "cell_type": "code",
   "execution_count": 6,
   "metadata": {
    "collapsed": false
   },
   "outputs": [
    {
     "name": "stdout",
     "output_type": "stream",
     "text": [
      "La pendiente de la linea -0.01.\n",
      "el intercepto es 0.46.\n",
      "El mejor ajuste de la regresion es  -0.01x + 0.46.\n"
     ]
    }
   ],
   "source": [
    "#utilizamos la funcion polyfit a través de eso obtener los valores que el algoritmo va proporcionar\n",
    "m, b = np.polyfit(x,y,1)\n",
    "#mostramos la pendiente\n",
    "print ('La pendiente de la linea {:.2f}.'.format(m))\n",
    "#mostramos la intercepto\n",
    "print ('el intercepto es {:.2f}.'.format(b))\n",
    "#mostramos la regresion que saco el algoritmo\n",
    "print ('El mejor ajuste de la regresion es  {:.2f}x + {:.2f}.'.format(m,b))"
   ]
  },
  {
   "cell_type": "code",
   "execution_count": 7,
   "metadata": {
    "collapsed": false
   },
   "outputs": [
   ],
   "source": [
    "#La variable convertida \"x\" para representarlo en la gráfica\n",
    "x_mean=x.mean()\n",
    "#La variable convertida \"y\" para representarlo en la gráfica\n",
    "y_mean=y.mean()"
   ]
  },
  {
   "cell_type": "code",
   "execution_count": 17,
   "metadata": {
    "collapsed": false
   },
   "outputs": [
    {
     "data": {
      "text/plain": [
       "<matplotlib.legend.Legend object at 0x7f1c6e28c3d0>"
      ]
     },
     "execution_count": 17,
     "metadata": {
     },
     "output_type": "execute_result"
    },
    {
     "data": {
      "image/png": "[encoded data removed]",
      "text/plain": [
       "<Figure size 1440x720 with 1 Axes>"
      ]
     },
     "execution_count": 17,
     "metadata": {
     },
     "output_type": "execute_result"
    }
   ],
   "source": [
    "#Usamos la gráfica para visualizar el algoritmo lineal que se implementó\n",
    "#Tamaño de la figura mostrada\n",
    "plt.figure(figsize=(20,10))\n",
    "#Representa los circulos que salen de datos en Tiros Libres Exitosos\n",
    "plt.plot(x,y, 'o', markersize = 14, label = \"Tiros Libres Exitosos\")\n",
    "#la estrella que es la escala de gráfica lineal\n",
    "plt.plot(x_mean,y_mean,'*', markersize = 30, color = \"r\")\n",
    "#la curva que se genera por el análisis de los datos\n",
    "plt.plot(x, m*x + b,'-', label = 'Simple Linear Regression Line', linewidth = 4)\n",
    "#campo o variable y representada\n",
    "plt.ylabel('porcentaje de tiros libres exitosos ', fontsize = 15)\n",
    "#campo o variable x representada\n",
    "plt.xlabel('porcentaje de tiros de campo exitosos ', fontsize = 15)\n",
    "#tamaño de representacion de la variable x\n",
    "plt.xticks(fontsize = 20)\n",
    "#tamaño de representacion de la variable x\n",
    "plt.yticks(fontsize = 20)\n",
    "#centrar la data en el cuatro y darle formato con color de letra\n",
    "plt.annotate('Centroid', xy=(x_mean-0.1, y_mean-5), xytext=(x_mean-3, y_mean-20), arrowprops=dict(facecolor='black', shrink=0.05), fontsize = 20)\n",
    "plt.legend(loc = 'upper right', fontsize = 20)\n"
   ]
  },
  {
   "cell_type": "code",
   "execution_count": 14,
   "metadata": {
    "collapsed": false
   },
   "outputs": [
   ],
   "source": [
    "#¿Cuál es el modelo planteado?\n",
    "#El modelo que se plantea es uno de regresión lineal"
   ]
  },
  {
   "cell_type": "code",
   "execution_count": 0,
   "metadata": {
    "collapsed": false
   },
   "outputs": [
   ],
   "source": [
   ]
  }
 ],
 "metadata": {
  "kernelspec": {
   "display_name": "SageMath (stable)",
   "language": "sagemath",
   "metadata": {
    "cocalc": {
     "description": "Open-source mathematical software system",
     "priority": 10,
     "url": "https://www.sagemath.org/"
    }
   },
   "name": "sagemath"
  },
  "language_info": {
   "codemirror_mode": {
    "name": "ipython",
    "version": 2
   },
   "file_extension": ".py",
   "mimetype": "text/x-python",
   "name": "python",
   "nbconvert_exporter": "python",
   "pygments_lexer": "ipython2",
   "version": "2.7.15"
  }
 },
 "nbformat": 4,
 "nbformat_minor": 0
}